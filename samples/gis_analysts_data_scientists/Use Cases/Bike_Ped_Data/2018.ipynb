{
 "cells": [
  {
   "cell_type": "markdown",
   "metadata": {},
   "source": [
    "### Imports"
   ]
  },
  {
   "cell_type": "code",
   "execution_count": 1,
   "metadata": {},
   "outputs": [],
   "source": [
    "import cartoframes\n",
    "import pathways\n",
    "from cartoframes.viz import Map, Layer, color_category_style\n",
    "from pathways.auth import set_default_credentials\n",
    "from pathways.catalog import search"
   ]
  },
  {
   "cell_type": "code",
   "execution_count": 2,
   "metadata": {},
   "outputs": [],
   "source": [
    "cartoframes.utils.setup_metrics(False)"
   ]
  },
}