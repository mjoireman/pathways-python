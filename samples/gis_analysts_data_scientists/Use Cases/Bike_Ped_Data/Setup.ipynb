
Prerequisties
To get started setup the jupyter notebook for the project by installing the pathways library along with all dependencies. Refer to the Get Started > README file for details.