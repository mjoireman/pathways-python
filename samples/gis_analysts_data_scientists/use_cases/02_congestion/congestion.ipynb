{
 "cells": [
  {
   "cell_type": "markdown",
   "metadata": {},
   "source": [
    "## Introduction\n"
   ]
  },
  {
   "cell_type": "markdown",
   "metadata": {},
   "source": [
    "This notebook aims to highlight routes with high and/or increasing congestion scores from the Peak Hour Expansion Factor (PHEF) layers on Pathways for Planning and provide strategies aimed at limiting the increase in congestion along these routes and easing congestion overall. Starting with the 2018 data, the peak hour scoring has been divided into categories, with a higher number indicating the number of times a particular segment is congested per day. A minimum score of 1.5 is needed for a route to be considered congested. 1.5 = 50% more travel time along a route than the free flowing travel time. Additionally, SMART SCALE does not differentiate between PHEF values once they have exceeded 5.\n",
    "\n",
    "SMART SCALE is a planning process that ensures effective use of funding for transportation projects in Virginia. Among the major measures that influence the SMART SCALE process, congestion is a big factor. The congestion factor is made up of two measures: Person Throughput and Person Hours of Delay, both equally weighted at 50%. Districts also have their own priority weights but we will be using the standard weights as the basis for our analysis. Since PHEF (also know as PPEF) is used as a measure Person Hours of Delay it is a good indicator of overall congestion.   "
   ]
  },
  {
   "cell_type": "markdown",
   "metadata": {},
   "source": [
    "### Imports"
   ]
  },
  {
   "cell_type": "code",
   "execution_count": 1,
   "metadata": {},
   "outputs": [],
   "source": [
    "import cartoframes\n",
    "import pathways\n",
    "from cartoframes.viz import Map, Layer, color_category_style\n",
    "from pathways.auth import set_default_credentials\n",
    "from pathways.catalog import search\n",
    "import geopandas as gpd\n",
    "import pandas as pd\n",
    "import seaborn as sns\n",
    "import matplotlib.pyplot as plt\n",
    "import numpy as np\n",
    "from pathways.display import display_info"
   ]
  },
  {
   "cell_type": "code",
   "execution_count": 2,
   "metadata": {},
   "outputs": [],
   "source": [
    "cartoframes.utils.setup_metrics(False)"
   ]
  },
  {
   "cell_type": "markdown",
   "metadata": {},
   "source": [
    "### Setting up Pathways client"
   ]
  },
  {
   "cell_type": "code",
   "execution_count": 3,
   "metadata": {},
   "outputs": [],
   "source": [
    "#set_default_credentials('creds.json')"
   ]
  },
  {
   "cell_type": "markdown",
   "metadata": {},
   "source": [
    "### Source Datasets for Analysis"
   ]
  },
  {
   "cell_type": "code",
   "execution_count": 4,
   "metadata": {},
   "outputs": [
    {
     "data": {
      "text/html": [
       "<div>\n",
       "<style scoped>\n",
       "    .dataframe tbody tr th:only-of-type {\n",
       "        vertical-align: middle;\n",
       "    }\n",
       "\n",
       "    .dataframe tbody tr th {\n",
       "        vertical-align: top;\n",
       "    }\n",
       "\n",
       "    .dataframe thead th {\n",
       "        text-align: right;\n",
       "    }\n",
       "</style>\n",
       "<table border=\"1\" class=\"dataframe\">\n",
       "  <thead>\n",
       "    <tr style=\"text-align: right;\">\n",
       "      <th></th>\n",
       "      <th>Id</th>\n",
       "      <th>Name</th>\n",
       "      <th>DisplayName</th>\n",
       "      <th>GeometryType</th>\n",
       "    </tr>\n",
       "  </thead>\n",
       "  <tbody>\n",
       "    <tr>\n",
       "      <th>0</th>\n",
       "      <td>d59fd5a8-d375-48f7-90cc-5b4d2e9ffe44</td>\n",
       "      <td>Peak Hour Expansion Factor 2020</td>\n",
       "      <td>Peak Hour Expansion Factor 2020</td>\n",
       "      <td>LrsLine</td>\n",
       "    </tr>\n",
       "    <tr>\n",
       "      <th>1</th>\n",
       "      <td>55cf50b3-882b-4b8d-bbcf-7d48ea749cd3</td>\n",
       "      <td>Peak Hour Expansion Factor Weekday 2018</td>\n",
       "      <td>Peak Hour Expansion Factor Weekday 2018</td>\n",
       "      <td>LrsLine</td>\n",
       "    </tr>\n",
       "    <tr>\n",
       "      <th>2</th>\n",
       "      <td>7e7ba4ee-f690-46e5-a214-58b730deeec6</td>\n",
       "      <td>Peak Hour Expansion Factor Weekday 2019</td>\n",
       "      <td>Peak Hour Expansion Factor Weekday 2019</td>\n",
       "      <td>LrsLine</td>\n",
       "    </tr>\n",
       "    <tr>\n",
       "      <th>3</th>\n",
       "      <td>c04d3c37-2824-4ecf-81b1-8140726bb745</td>\n",
       "      <td>Peak Hour Expansion Factor Weekend 2018</td>\n",
       "      <td>Peak Hour Expansion Factor Weekend 2018</td>\n",
       "      <td>LrsLine</td>\n",
       "    </tr>\n",
       "    <tr>\n",
       "      <th>4</th>\n",
       "      <td>94fa7469-a435-4794-a2e5-4a5ba3f7aa32</td>\n",
       "      <td>Peak Hour Expansion Factor Weekend 2019</td>\n",
       "      <td>Peak Hour Expansion Factor Weekend 2019</td>\n",
       "      <td>LrsLine</td>\n",
       "    </tr>\n",
       "    <tr>\n",
       "      <th>5</th>\n",
       "      <td>22802ade-9a85-4ac8-a7d0-508f29ddd4cb</td>\n",
       "      <td>Peak Hourly Expansion Factor 2017</td>\n",
       "      <td>Peak Hourly Expansion Factor 2017</td>\n",
       "      <td>Polyline</td>\n",
       "    </tr>\n",
       "    <tr>\n",
       "      <th>6</th>\n",
       "      <td>00a0686e-ac15-413d-8145-9835e8718b6f</td>\n",
       "      <td>Weighted Peak Hour Expansion Factor 2018</td>\n",
       "      <td>Weighted Peak Hour Expansion Factor 2018</td>\n",
       "      <td>LrsLine</td>\n",
       "    </tr>\n",
       "    <tr>\n",
       "      <th>7</th>\n",
       "      <td>ce03f8e8-82d6-4d48-9b7e-d58677d9b67b</td>\n",
       "      <td>Weighted Peak Hour Expansion Factor 2019</td>\n",
       "      <td>Weighted Peak Hour Expansion Factor 2019</td>\n",
       "      <td>LrsLine</td>\n",
       "    </tr>\n",
       "  </tbody>\n",
       "</table>\n",
       "</div>"
      ],
      "text/plain": [
       "                                     Id  \\\n",
       "0  d59fd5a8-d375-48f7-90cc-5b4d2e9ffe44   \n",
       "1  55cf50b3-882b-4b8d-bbcf-7d48ea749cd3   \n",
       "2  7e7ba4ee-f690-46e5-a214-58b730deeec6   \n",
       "3  c04d3c37-2824-4ecf-81b1-8140726bb745   \n",
       "4  94fa7469-a435-4794-a2e5-4a5ba3f7aa32   \n",
       "5  22802ade-9a85-4ac8-a7d0-508f29ddd4cb   \n",
       "6  00a0686e-ac15-413d-8145-9835e8718b6f   \n",
       "7  ce03f8e8-82d6-4d48-9b7e-d58677d9b67b   \n",
       "\n",
       "                                       Name  \\\n",
       "0           Peak Hour Expansion Factor 2020   \n",
       "1   Peak Hour Expansion Factor Weekday 2018   \n",
       "2   Peak Hour Expansion Factor Weekday 2019   \n",
       "3   Peak Hour Expansion Factor Weekend 2018   \n",
       "4   Peak Hour Expansion Factor Weekend 2019   \n",
       "5         Peak Hourly Expansion Factor 2017   \n",
       "6  Weighted Peak Hour Expansion Factor 2018   \n",
       "7  Weighted Peak Hour Expansion Factor 2019   \n",
       "\n",
       "                                DisplayName GeometryType  \n",
       "0           Peak Hour Expansion Factor 2020      LrsLine  \n",
       "1   Peak Hour Expansion Factor Weekday 2018      LrsLine  \n",
       "2   Peak Hour Expansion Factor Weekday 2019      LrsLine  \n",
       "3   Peak Hour Expansion Factor Weekend 2018      LrsLine  \n",
       "4   Peak Hour Expansion Factor Weekend 2019      LrsLine  \n",
       "5         Peak Hourly Expansion Factor 2017     Polyline  \n",
       "6  Weighted Peak Hour Expansion Factor 2018      LrsLine  \n",
       "7  Weighted Peak Hour Expansion Factor 2019      LrsLine  "
      ]
     },
     "execution_count": 4,
     "metadata": {},
     "output_type": "execute_result"
    }
   ],
   "source": [
    "datasets = search('expansion')\n",
    "datasets"
   ]
  },
  {
   "cell_type": "markdown",
   "metadata": {},
   "source": [
    "Next, we will read in the datasets that we will use for analysis, assigning each to a variable."
   ]
  },
  {
   "cell_type": "code",
   "execution_count": 5,
   "metadata": {},
   "outputs": [
    {
     "name": "stderr",
     "output_type": "stream",
     "text": [
      "downloading from pathways:: 28.2MB [00:02, 10.2MB/s]                                                                   \n",
      "downloading from pathways:: 28.2MB [00:03, 8.36MB/s]                                                                   \n",
      "downloading from pathways:: 28.2MB [00:03, 7.36MB/s]                                                                   \n",
      "downloading from pathways:: 28.2MB [00:03, 9.07MB/s]                                                                   \n",
      "downloading from pathways:: 26.8MB [00:04, 5.99MB/s]                                                                   \n"
     ]
    }
   ],
   "source": [
    "\n",
    "phef2018weekday_df = pathways.read_dataset('55cf50b3-882b-4b8d-bbcf-7d48ea749cd3')\n",
    "phef2018weekend_df = pathways.read_dataset('c04d3c37-2824-4ecf-81b1-8140726bb745')\n",
    "phef2019weekday_df = pathways.read_dataset('7e7ba4ee-f690-46e5-a214-58b730deeec6')\n",
    "phef2019weekend_df = pathways.read_dataset('94fa7469-a435-4794-a2e5-4a5ba3f7aa32')\n",
    "phef2020_df = pathways.read_dataset('d59fd5a8-d375-48f7-90cc-5b4d2e9ffe44')\n"
   ]
  },
  {
   "cell_type": "markdown",
   "metadata": {},
   "source": [
    "### Preparing Data for Anaylsis"
   ]
  },
  {
   "cell_type": "markdown",
   "metadata": {},
   "source": [
    "To begin, we will examine the Congestion (PHEF) Score distribution in the 2018 datasets. First we will create a subset of the data that identifies routes that are considered congested and plot the data to see the distribution."
   ]
  },
  {
   "cell_type": "code",
   "execution_count": 6,
   "metadata": {},
   "outputs": [],
   "source": [
    "subset_phef2018weekday_df = phef2018weekday_df[(phef2018weekday_df.PHEF >= 1.5)]"
   ]
  },
  {
   "cell_type": "code",
   "execution_count": 7,
   "metadata": {},
   "outputs": [
    {
     "data": {
      "text/plain": [
       "<AxesSubplot:xlabel='PHEF', ylabel='Count'>"
      ]
     },
     "execution_count": 7,
     "metadata": {},
     "output_type": "execute_result"
    },
    {
     "data": {
      "image/png": "[encoded data removed]",
      "text/plain": [
       "<Figure size 432x288 with 1 Axes>"
      ]
     },
     "metadata": {
      "needs_background": "light"
     },
     "output_type": "display_data"
    }
   ],
   "source": [
    "sns.histplot(data=subset_phef2018weekday_df, x='PHEF', binwidth = 1)"
   ]
  },
  {
   "cell_type": "markdown",
   "metadata": {},
   "source": [
    "From the graph we can see that the the majority of congested routes are concentrated under 5 PHEF Score, primarily within the 1.5-4.5 Score range. However, this is only a piece of the data that we will need to analyze route congestion over time. Next we will calculate the percentage congested routes make up of the total route features.  "
   ]
  },
  {
   "cell_type": "code",
   "execution_count": 8,
   "metadata": {},
   "outputs": [
    {
     "data": {
      "text/plain": [
       "Shape_Length    2126\n",
       "RTE_NM          2075\n",
       "FROM_MEASURE    1871\n",
       "TO_MEASURE      1871\n",
       "TMC             2126\n",
       "                ... \n",
       "AM_MAX          2126\n",
       "PM_MAX          2126\n",
       "AM_PHEF         2126\n",
       "PM_PHEF         2126\n",
       "geometry        1871\n",
       "Length: 86, dtype: int64"
      ]
     },
     "execution_count": 8,
     "metadata": {},
     "output_type": "execute_result"
    }
   ],
   "source": [
    "# Get a count of the number of congested routes for 2018 weekday (2126)\n",
    "subset_phef2018weekday_df.count()"
   ]
  },
  {
   "cell_type": "code",
   "execution_count": 9,
   "metadata": {},
   "outputs": [
    {
     "name": "stdout",
     "output_type": "stream",
     "text": [
      "0.09809892949427833\n"
     ]
    }
   ],
   "source": [
    "# Percent of the 2018 weekday data that is congested\n",
    "congested2018weekday = subset_phef2018weekday_df.count()\n",
    "percent2018weekday =congested2018weekday.divide(other = 21672)\n",
    "print(percent2018weekday.PHEF)"
   ]
  },
  {
   "cell_type": "markdown",
   "metadata": {},
   "source": [
    "From these calculations, we can see that the percentage of congested routes in the 2018 weekday data is 9.81%. Next we will follow the same process for the weekend 2018 data. Both feature classes have a total number of 21672 route features."
   ]
  },
  {
   "cell_type": "code",
   "execution_count": 10,
   "metadata": {},
   "outputs": [],
   "source": [
    "# Get the same count of congested routes for 2018 weekend data\n",
    "subset_phef2018weekend_df = phef2018weekend_df[(phef2018weekend_df.PHEF >= 1.5)]"
   ]
  },
  {
   "cell_type": "code",
   "execution_count": 11,
   "metadata": {},
   "outputs": [
    {
     "data": {
      "text/plain": [
       "<AxesSubplot:xlabel='PHEF', ylabel='Count'>"
      ]
     },
     "execution_count": 11,
     "metadata": {},
     "output_type": "execute_result"
    },
    {
     "data": {
      "image/png": "[encoded data removed]",
      "text/plain": [
       "<Figure size 432x288 with 1 Axes>"
      ]
     },
     "metadata": {
      "needs_background": "light"
     },
     "output_type": "display_data"
    }
   ],
   "source": [
    "#Plot the distribution of congested routes\n",
    "sns.histplot(data=subset_phef2018weekend_df, x='PHEF', binwidth = 1)"
   ]
  },
  {
   "cell_type": "code",
   "execution_count": 12,
   "metadata": {},
   "outputs": [
    {
     "data": {
      "text/plain": [
       "Shape_Length    1267\n",
       "RTE_NM          1241\n",
       "FROM_MEASURE    1088\n",
       "TO_MEASURE      1088\n",
       "TMC             1267\n",
       "                ... \n",
       "AM_MAX          1267\n",
       "PM_MAX          1267\n",
       "AM_PHEF         1267\n",
       "PM_PHEF         1267\n",
       "geometry        1088\n",
       "Length: 86, dtype: int64"
      ]
     },
     "execution_count": 12,
     "metadata": {},
     "output_type": "execute_result"
    }
   ],
   "source": [
    "# 1267 routes are congested \n",
    "subset_phef2018weekend_df.count()"
   ]
  },
  {
   "cell_type": "code",
   "execution_count": 13,
   "metadata": {},
   "outputs": [
    {
     "name": "stdout",
     "output_type": "stream",
     "text": [
      "0.058462532299741604\n"
     ]
    }
   ],
   "source": [
    "# Percent of the 2018 weekend data that is congested\n",
    "congested2018weekend = subset_phef2018weekend_df.count()\n",
    "percent2018weekend =congested2018weekend.divide(other = 21672)\n",
    "print(percent2018weekend.PHEF)"
   ]
  },
  {
   "cell_type": "markdown",
   "metadata": {},
   "source": [
    "Now that we have the percentages and distribution for the 2018 data we will do the same for the 2019 data. "
   ]
  },
  {
   "cell_type": "code",
   "execution_count": 14,
   "metadata": {},
   "outputs": [
    {
     "data": {
      "text/plain": [
       "<AxesSubplot:xlabel='PHEF', ylabel='Count'>"
      ]
     },
     "execution_count": 14,
     "metadata": {},
     "output_type": "execute_result"
    },
    {
     "data": {
      "image/png": "[encoded data removed]",
      "text/plain": [
       "<Figure size 432x288 with 1 Axes>"
      ]
     },
     "metadata": {
      "needs_background": "light"
     },
     "output_type": "display_data"
    }
   ],
   "source": [
    "# Calculating 2019 weekday data\n",
    "subset_phef2019weekday_df = phef2019weekday_df[(phef2019weekday_df.PHEF >= 1.5)]\n",
    "sns.histplot(data=subset_phef2019weekday_df, x='PHEF', binwidth = 1)"
   ]
  },
  {
   "cell_type": "code",
   "execution_count": 15,
   "metadata": {},
   "outputs": [
    {
     "name": "stdout",
     "output_type": "stream",
     "text": [
      "0.1352436323366556\n"
     ]
    }
   ],
   "source": [
    "# Calculating percentage of total routes that are congested\n",
    "congested2019weekday = subset_phef2019weekday_df.count()\n",
    "percent2019weekday =congested2019weekday.divide(other = 21672)\n",
    "print(percent2019weekday.PHEF)"
   ]
  },
  {
   "cell_type": "code",
   "execution_count": 16,
   "metadata": {},
   "outputs": [
    {
     "data": {
      "text/plain": [
       "<AxesSubplot:xlabel='PHEF', ylabel='Count'>"
      ]
     },
     "execution_count": 16,
     "metadata": {},
     "output_type": "execute_result"
    },
    {
     "data": {
      "image/png": "[encoded data removed]",
      "text/plain": [
       "<Figure size 432x288 with 1 Axes>"
      ]
     },
     "metadata": {
      "needs_background": "light"
     },
     "output_type": "display_data"
    }
   ],
   "source": [
    "# Calculating 2019 weekend data\n",
    "subset_phef2019weekend_df = phef2019weekend_df[(phef2019weekend_df.PHEF >= 1.5)]\n",
    "sns.histplot(data=subset_phef2019weekend_df, x='PHEF', binwidth = 1)"
   ]
  },
  {
   "cell_type": "code",
   "execution_count": 17,
   "metadata": {},
   "outputs": [
    {
     "name": "stdout",
     "output_type": "stream",
     "text": [
      "0.07964193429309709\n"
     ]
    }
   ],
   "source": [
    "# Calculating percentage of total routes that are congested\n",
    "congested2019weekend = subset_phef2019weekend_df.count()\n",
    "percent2019weekend =congested2019weekend.divide(other = 21672)\n",
    "print(percent2019weekend.PHEF)"
   ]
  },
  {
   "cell_type": "markdown",
   "metadata": {},
   "source": [
    "### 2018-2019 comparisons"
   ]
  },
  {
   "cell_type": "markdown",
   "metadata": {},
   "source": [
    "Now that we have both the 2018 and 2019 data we can begin to draw conclusions from it. First we will plot the distribution of the weekday data together."
   ]
  },
  {
   "cell_type": "code",
   "execution_count": 18,
   "metadata": {},
   "outputs": [
    {
     "data": {
      "text/plain": [
       "<AxesSubplot:xlabel='PHEF', ylabel='Count'>"
      ]
     },
     "execution_count": 18,
     "metadata": {},
     "output_type": "execute_result"
    },
    {
     "data": {
      "image/png": "[encoded data removed]",
      "text/plain": [
       "<Figure size 432x288 with 1 Axes>"
      ]
     },
     "metadata": {
      "needs_background": "light"
     },
     "output_type": "display_data"
    }
   ],
   "source": [
    "# Comparing 2018-2019 weekday data\n",
    "# Distribution of congested routes shifts drastically\n",
    "sns.histplot(data=subset_phef2018weekday_df, x='PHEF', binwidth = 1, color = 'blue', alpha =.7)\n",
    "sns.histplot(data=subset_phef2019weekday_df, x='PHEF', binwidth = 1, color= 'red', alpha=.7)"
   ]
  },
  {
   "cell_type": "markdown",
   "metadata": {},
   "source": [
    "The shift in the distribution of routes among the PHEF scoring categories is the most important change to note. In 2018 the largest number of congested routes is within the 1.5-2.5 score range, a relatively small peak travel time period. In 2019, while the 1.5-2.5 score category appears to remain dominant if we combine the 2019 score categories that are 5 PHEF score or above..."
   ]
  },
  {
   "cell_type": "code",
   "execution_count": 19,
   "metadata": {},
   "outputs": [
    {
     "data": {
      "text/plain": [
       "Shape_Length    1377\n",
       "RTE_NM          1365\n",
       "FROM_MEASURE    1160\n",
       "TO_MEASURE      1160\n",
       "TMC             1377\n",
       "                ... \n",
       "F9_00_PM        1377\n",
       "PHEF            1377\n",
       "AM_MAX          1377\n",
       "PM_MAX          1377\n",
       "geometry        1160\n",
       "Length: 84, dtype: int64"
      ]
     },
     "execution_count": 19,
     "metadata": {},
     "output_type": "execute_result"
    }
   ],
   "source": [
    "above52019weekday = phef2019weekday_df[(phef2019weekday_df.PHEF >= 5)]\n",
    "above52019weekday.count()"
   ]
  },
  {
   "cell_type": "markdown",
   "metadata": {},
   "source": [
    "we can see that the 5 or greater PHEF scores are significantly higher than the number of congested routes within the 1.5-2.5 PHEF score range. "
   ]
  },
  {
   "cell_type": "markdown",
   "metadata": {},
   "source": [
    "Of the 21,672 features within the 2018 and 2019 Weekday PHEF layers 2,126 (9.81%) and 2,931 (13.52%) features have been flagged as congested respectively. Since we know that there was no increase in total features, what is the cause of this increase in heavily congested routes? "
   ]
  },
  {
   "cell_type": "markdown",
   "metadata": {},
   "source": [
    "Taking a broader look at these datasets in geospatial applications we can see that the features within the 5+ PHEF score categories are relatively small when compared with less congested route features. To confirm whether this is a trend we will construct a query based around the shape_length field. "
   ]
  },
  {
   "cell_type": "code",
   "execution_count": 20,
   "metadata": {},
   "outputs": [
    {
     "data": {
      "text/plain": [
       "Shape_Length    981\n",
       "RTE_NM          969\n",
       "FROM_MEASURE    764\n",
       "TO_MEASURE      764\n",
       "TMC             981\n",
       "               ... \n",
       "F9_00_PM        981\n",
       "PHEF            981\n",
       "AM_MAX          981\n",
       "PM_MAX          981\n",
       "geometry        764\n",
       "Length: 84, dtype: int64"
      ]
     },
     "execution_count": 20,
     "metadata": {},
     "output_type": "execute_result"
    }
   ],
   "source": [
    "# Calculating the number of highly congested routes under 100 meters in length\n",
    "smallcongestedroutesweekday2019 = above52019weekday[(above52019weekday.Shape_Length <= 100)]\n",
    "smallcongestedroutesweekday2019.count()"
   ]
  },
  {
   "cell_type": "code",
   "execution_count": 21,
   "metadata": {},
   "outputs": [
    {
     "name": "stdout",
     "output_type": "stream",
     "text": [
      "0.7124183006535948\n"
     ]
    }
   ],
   "source": [
    "# Percentage of highly congested routes that are under 100 meters\n",
    "shortcongested2019weekday = smallcongestedroutesweekday2019.count()\n",
    "percentshort2019weekday =shortcongested2019weekday.divide(other = 1377)\n",
    "print(percentshort2019weekday.PHEF)"
   ]
  },
  {
   "cell_type": "markdown",
   "metadata": {},
   "source": [
    "981 of the 1377 (71.2%) route segments with PHEF scores of 5 or higher were found to be 100 meters or less in length. All of which are in the immediate vicinity of an intersection. "
   ]
  },
  {
   "cell_type": "code",
   "execution_count": 22,
   "metadata": {},
   "outputs": [
    {
     "data": {
      "text/plain": [
       "Shape_Length    1068\n",
       "RTE_NM          1056\n",
       "FROM_MEASURE     900\n",
       "TO_MEASURE       900\n",
       "TMC             1068\n",
       "                ... \n",
       "F9_00_PM        1068\n",
       "PHEF            1068\n",
       "AM_MAX          1068\n",
       "PM_MAX          1068\n",
       "geometry         900\n",
       "Length: 84, dtype: int64"
      ]
     },
     "execution_count": 22,
     "metadata": {},
     "output_type": "execute_result"
    }
   ],
   "source": [
    "above52019weekend = phef2019weekend_df[(phef2019weekend_df.PHEF >= 5)]\n",
    "above52019weekend.count()"
   ]
  },
  {
   "cell_type": "code",
   "execution_count": 23,
   "metadata": {},
   "outputs": [
    {
     "data": {
      "text/plain": [
       "Shape_Length    776\n",
       "RTE_NM          764\n",
       "FROM_MEASURE    608\n",
       "TO_MEASURE      608\n",
       "TMC             776\n",
       "               ... \n",
       "F9_00_PM        776\n",
       "PHEF            776\n",
       "AM_MAX          776\n",
       "PM_MAX          776\n",
       "geometry        608\n",
       "Length: 84, dtype: int64"
      ]
     },
     "execution_count": 23,
     "metadata": {},
     "output_type": "execute_result"
    }
   ],
   "source": [
    "shortcongestedroutesweekend = above52019weekend[(above52019weekend.Shape_Length <= 100)]\n",
    "shortcongestedroutesweekend.count()"
   ]
  },
  {
   "cell_type": "code",
   "execution_count": 24,
   "metadata": {},
   "outputs": [
    {
     "name": "stdout",
     "output_type": "stream",
     "text": [
      "0.7265917602996255\n"
     ]
    }
   ],
   "source": [
    "shortcongested2019weekend = shortcongestedroutesweekend.count()\n",
    "percentshort2019weekend =shortcongested2019weekend.divide(other = 1068)\n",
    "print(percentshort2019weekend.PHEF)"
   ]
  },
  {
   "cell_type": "code",
   "execution_count": 28,
   "metadata": {},
   "outputs": [
    {
     "data": {
      "text/plain": [
       "<AxesSubplot:xlabel='PHEF', ylabel='Count'>"
      ]
     },
     "execution_count": 28,
     "metadata": {},
     "output_type": "execute_result"
    },
    {
     "data": {
      "image/png": "[encoded data removed]",
      "text/plain": [
       "<Figure size 432x288 with 1 Axes>"
      ]
     },
     "metadata": {
      "needs_background": "light"
     },
     "output_type": "display_data"
    }
   ],
   "source": [
    "# The shift in congested route distribution is supported by the 2019 weekend data\n",
    "sns.histplot(data=subset_phef2018weekend_df, x='PHEF', binwidth = 1, color = 'blue', alpha =.7)\n",
    "sns.histplot(data=subset_phef2019weekend_df, x='PHEF', binwidth = 1, color= 'red', alpha=.7)"
   ]
  },
  {
   "cell_type": "markdown",
   "metadata": {},
   "source": [
    "The 2019 Weekend data also conforms to the trend with 778 of the 1068 (72.3%) congested route segments with PHEF scores above 5 measuring 100 meters or less in length located at an intersection. \n",
    "\n",
    "The sharp increase in congested routes with extreme peak travel time periods from year to year is a concerning trend. Suggesting that, at peak travel times along these routes, the infrastructure in place is under equipped to deal with the intensity of traffic flow."
   ]
  },
  {
   "cell_type": "markdown",
   "metadata": {},
   "source": [
    "### 2019-2020"
   ]
  },
  {
   "cell_type": "markdown",
   "metadata": {},
   "source": [
    "Since the 2020 weekend and weekday data is combined into one overall dataset we will split the dataset up into subsets containing weekday and weekend data respectively first. Fortunately, within the dataset there are specific fields that will facilitate the creation of these subsets"
   ]
  },
  {
   "cell_type": "code",
   "execution_count": 27,
   "metadata": {},
   "outputs": [],
   "source": [
    "phef2020weekday = phef2020_df[(phef2020_df.WD_PHEF > 0)]\n",
    "phef2020weekend = phef2020_df[(phef2020_df.WE_PHEF > 0)]"
   ]
  },
  {
   "cell_type": "code",
   "execution_count": 39,
   "metadata": {},
   "outputs": [
    {
     "name": "stdout",
     "output_type": "stream",
     "text": [
      "0.09800664451827243\n"
     ]
    }
   ],
   "source": [
    "# Calculating the percentage of Weekday routes that are congested of the total number of routes\n",
    "subset_phef2020weekday = phef2020weekday[(phef2020weekday.WD_PHEF >= 1.5)]\n",
    "congested2020weekday = subset_phef2020weekday.count()\n",
    "percentcongested2020weekday = congested2020weekday.divide(other = 21672)\n",
    "print(percentcongested2020weekday.WD_PHEF)"
   ]
  },
  {
   "cell_type": "code",
   "execution_count": 33,
   "metadata": {},
   "outputs": [
    {
     "data": {
      "text/plain": [
       "<AxesSubplot:xlabel='WD_PHEF', ylabel='Count'>"
      ]
     },
     "execution_count": 33,
     "metadata": {},
     "output_type": "execute_result"
    },
    {
     "data": {
      "image/png": "[encoded data removed]",
      "text/plain": [
       "<Figure size 432x288 with 1 Axes>"
      ]
     },
     "metadata": {
      "needs_background": "light"
     },
     "output_type": "display_data"
    }
   ],
   "source": [
    "sns.histplot(data=subset_phef2020weekday, x='WD_PHEF', binwidth = 1, alpha=.7)"
   ]
  },
  {
   "cell_type": "markdown",
   "metadata": {},
   "source": [
    "There is a decrease in overall features for the weekday data (down 807 features from 2019 or 3.72%) but the trend of highly congested routes from the 2019 data continues. Let us verify with the weekend data."
   ]
  },
  {
   "cell_type": "code",
   "execution_count": 40,
   "metadata": {},
   "outputs": [
    {
     "name": "stdout",
     "output_type": "stream",
     "text": [
      "0.0665374677002584\n"
     ]
    }
   ],
   "source": [
    "subset_phef2020weekend = phef2020weekend[(phef2020weekend.WE_PHEF >= 1.5)]\n",
    "congested2020weekend = subset_phef2020weekend.count()\n",
    "percentcongested2020weekend = congested2020weekend.divide(other = 21672)\n",
    "print(percentcongested2020weekend.WE_PHEF)"
   ]
  },
  {
   "cell_type": "code",
   "execution_count": 41,
   "metadata": {},
   "outputs": [
    {
     "data": {
      "text/plain": [
       "<AxesSubplot:xlabel='WE_PHEF', ylabel='Count'>"
      ]
     },
     "execution_count": 41,
     "metadata": {},
     "output_type": "execute_result"
    },
    {
     "data": {
      "image/png": "[encoded data removed]",
      "text/plain": [
       "<Figure size 432x288 with 1 Axes>"
      ]
     },
     "metadata": {
      "needs_background": "light"
     },
     "output_type": "display_data"
    }
   ],
   "source": [
    "sns.histplot(data=subset_phef2020weekend, x='WE_PHEF', binwidth = 1, alpha=.7)"
   ]
  },
  {
   "cell_type": "markdown",
   "metadata": {},
   "source": [
    "The 2020 Weekend subset confirms that the trend of congested routes with high PHEF scores continues through 2020 despite an overall drop in features (down 284 features or 1.31% from 2019). What could have caused the decrease? \n",
    "\n",
    "We know that Congestion is a major factor in the SMART SCALE planning process. Assuming for the moment that the 2019 PHEF data led to projects aimed to reduce congestion on routes with higher PHEF scores, let's find out if there was a reduction in highly congested features within the vicinity of an intersection. Given that the features less than 100 m in length made up the majority of highly congested features in 2019 it makes sense to analyze the 2020 data from the same angle. To do this we will compare the percentages from 2019 to 2020."
   ]
  },
  {
   "cell_type": "code",
   "execution_count": 91,
   "metadata": {},
   "outputs": [
    {
     "data": {
      "text/plain": [
       "RTE_NM          1299\n",
       "FROM_MEASURE    1097\n",
       "TO_MEASURE      1097\n",
       "TMC             1311\n",
       "TMCSEQUENC      1311\n",
       "STARTNODE       1311\n",
       "STARTNODER      1311\n",
       "STARTOFFSE      1311\n",
       "STARTMILEP      1311\n",
       "ENDNODE         1311\n",
       "ENDNODEROU      1311\n",
       "ENDOFFSET       1311\n",
       "ENDMILEPOI      1311\n",
       "LOC_ERROR       1311\n",
       "TMC_ROAD        1311\n",
       "TMC_DIRECT      1311\n",
       "Intersection    1311\n",
       "Miles           1311\n",
       "WD_PHEF         1311\n",
       "WE_PHEF         1311\n",
       "Weight_PHEF     1311\n",
       "Shape_Length    1311\n",
       "geometry        1097\n",
       "dtype: int64"
      ]
     },
     "execution_count": 91,
     "metadata": {},
     "output_type": "execute_result"
    }
   ],
   "source": [
    "# Number of highly congested features 2020 weekday\n",
    "subset_congested2020weekday = phef2020weekday[(phef2020weekday.WD_PHEF >=5)]\n",
    "subset_congested2020weekday.count()\n"
   ]
  },
  {
   "cell_type": "code",
   "execution_count": 92,
   "metadata": {},
   "outputs": [
    {
     "data": {
      "text/plain": [
       "RTE_NM          986\n",
       "FROM_MEASURE    784\n",
       "TO_MEASURE      784\n",
       "TMC             998\n",
       "TMCSEQUENC      998\n",
       "STARTNODE       998\n",
       "STARTNODER      998\n",
       "STARTOFFSE      998\n",
       "STARTMILEP      998\n",
       "ENDNODE         998\n",
       "ENDNODEROU      998\n",
       "ENDOFFSET       998\n",
       "ENDMILEPOI      998\n",
       "LOC_ERROR       998\n",
       "TMC_ROAD        998\n",
       "TMC_DIRECT      998\n",
       "Intersection    998\n",
       "Miles           998\n",
       "WD_PHEF         998\n",
       "WE_PHEF         998\n",
       "Weight_PHEF     998\n",
       "Shape_Length    998\n",
       "geometry        784\n",
       "dtype: int64"
      ]
     },
     "execution_count": 92,
     "metadata": {},
     "output_type": "execute_result"
    }
   ],
   "source": [
    "# Number of highly congested features 2020 weekday less than 100 meters \n",
    "shorthighcongested2020weekday = subset_congested2020weekday[(subset_congested2020weekday.Shape_Length <=100)]\n",
    "shorthighcongested2020weekday.count()"
   ]
  },
  {
   "cell_type": "code",
   "execution_count": 93,
   "metadata": {},
   "outputs": [
    {
     "name": "stdout",
     "output_type": "stream",
     "text": [
      "0.7612509534706331\n"
     ]
    }
   ],
   "source": [
    "# Percent of 2020 weekday high congestion features less than 100 meters\n",
    "highcongestedweekday2020 = shorthighcongested2020weekday.count()\n",
    "percenthighcongested2020weekday = highcongestedweekday2020.divide(other = 1311)\n",
    "print(percenthighcongested2020weekday.WD_PHEF)"
   ]
  },
  {
   "cell_type": "code",
   "execution_count": 94,
   "metadata": {},
   "outputs": [
    {
     "data": {
      "text/plain": [
       "RTE_NM          1074\n",
       "FROM_MEASURE     909\n",
       "TO_MEASURE       909\n",
       "TMC             1082\n",
       "TMCSEQUENC      1082\n",
       "STARTNODE       1082\n",
       "STARTNODER      1082\n",
       "STARTOFFSE      1082\n",
       "STARTMILEP      1082\n",
       "ENDNODE         1082\n",
       "ENDNODEROU      1082\n",
       "ENDOFFSET       1082\n",
       "ENDMILEPOI      1082\n",
       "LOC_ERROR       1082\n",
       "TMC_ROAD        1082\n",
       "TMC_DIRECT      1082\n",
       "Intersection    1082\n",
       "Miles           1082\n",
       "WD_PHEF         1082\n",
       "WE_PHEF         1082\n",
       "Weight_PHEF     1082\n",
       "Shape_Length    1082\n",
       "geometry         909\n",
       "dtype: int64"
      ]
     },
     "execution_count": 94,
     "metadata": {},
     "output_type": "execute_result"
    }
   ],
   "source": [
    "# Number of highly congested features 2020 weekend\n",
    "subset_congested2020weekend = phef2020weekend[(phef2020weekend.WE_PHEF >=5)]\n",
    "subset_congested2020weekend.count()"
   ]
  },
  {
   "cell_type": "code",
   "execution_count": 95,
   "metadata": {},
   "outputs": [
    {
     "data": {
      "text/plain": [
       "RTE_NM          813\n",
       "FROM_MEASURE    648\n",
       "TO_MEASURE      648\n",
       "TMC             821\n",
       "TMCSEQUENC      821\n",
       "STARTNODE       821\n",
       "STARTNODER      821\n",
       "STARTOFFSE      821\n",
       "STARTMILEP      821\n",
       "ENDNODE         821\n",
       "ENDNODEROU      821\n",
       "ENDOFFSET       821\n",
       "ENDMILEPOI      821\n",
       "LOC_ERROR       821\n",
       "TMC_ROAD        821\n",
       "TMC_DIRECT      821\n",
       "Intersection    821\n",
       "Miles           821\n",
       "WD_PHEF         821\n",
       "WE_PHEF         821\n",
       "Weight_PHEF     821\n",
       "Shape_Length    821\n",
       "geometry        648\n",
       "dtype: int64"
      ]
     },
     "execution_count": 95,
     "metadata": {},
     "output_type": "execute_result"
    }
   ],
   "source": [
    "# Number of highly congested features 2020 weekend less than 100 meters \n",
    "shorthighcongested2020weekend = subset_congested2020weekend[(subset_congested2020weekend.Shape_Length <=100)]\n",
    "shorthighcongested2020weekend.count()"
   ]
  },
  {
   "cell_type": "code",
   "execution_count": 97,
   "metadata": {},
   "outputs": [
    {
     "name": "stdout",
     "output_type": "stream",
     "text": [
      "0.7587800369685767\n"
     ]
    }
   ],
   "source": [
    "# Percent of 2020 weekend high congestion features less than 100 meters\n",
    "highcongestedweekend2020 = shorthighcongested2020weekend.count()\n",
    "percenthighcongested2020weekend = highcongestedweekend2020.divide(other = 1082)\n",
    "print(percenthighcongested2020weekend.WE_PHEF)"
   ]
  },
  {
   "cell_type": "markdown",
   "metadata": {},
   "source": [
    "The percentages for both 2020 weekday(76.13%) and 2020 weekend (76%) indicate that our earlier assumption was incorrect as both percentages increased from the previous year. "
   ]
  },
  {
   "cell_type": "markdown",
   "metadata": {},
   "source": [
    "Another explanation for the decrease in overall congested features in 2020 is the impact of the COVID-19 virus on vehicular transportation. To be sure we will pull in data from the Bureau of Transporation Statistics which is in the Public Domain. The dataset we will use is Trips by Distance, limited to the calendar year of 2020 and the state of Virginia. Due to access token restrictions, I have provided the subset of the data that we will need as an excel document instead of directly accessing the data via API. The full dataset is available here https://data.bts.gov/Research-and-Statistics/Trips-by-Distance/w96p-f2qv "
   ]
  },
  {
   "cell_type": "markdown",
   "metadata": {},
   "source": [
    "Download the TripsbyDistanceVA2020 Excel Document from the congestion folder and copy the path full file path to the single quoted section below"
   ]
  },
  {
   "cell_type": "code",
   "execution_count": 148,
   "metadata": {},
   "outputs": [
    {
     "data": {
      "text/html": [
       "<div>\n",
       "<style scoped>\n",
       "    .dataframe tbody tr th:only-of-type {\n",
       "        vertical-align: middle;\n",
       "    }\n",
       "\n",
       "    .dataframe tbody tr th {\n",
       "        vertical-align: top;\n",
       "    }\n",
       "\n",
       "    .dataframe thead th {\n",
       "        text-align: right;\n",
       "    }\n",
       "</style>\n",
       "<table border=\"1\" class=\"dataframe\">\n",
       "  <thead>\n",
       "    <tr style=\"text-align: right;\">\n",
       "      <th></th>\n",
       "      <th>Date</th>\n",
       "      <th>Month</th>\n",
       "      <th>Selected State</th>\n",
       "      <th>Selected Set</th>\n",
       "      <th>Level</th>\n",
       "      <th>State Code</th>\n",
       "      <th>Percent of People Staying at Home</th>\n",
       "      <th>Population Not Staying at Home</th>\n",
       "      <th>Population Staying at Home</th>\n",
       "      <th>Trips</th>\n",
       "      <th>...</th>\n",
       "      <th>Trips 100-250 Miles</th>\n",
       "      <th>Trips 25-50 Miles</th>\n",
       "      <th>Trips 250-500 Miles</th>\n",
       "      <th>Trips 3-5 Miles</th>\n",
       "      <th>Trips 5-10 Miles</th>\n",
       "      <th>Trips 50-100 Miles</th>\n",
       "      <th>Trips 500+ Miles</th>\n",
       "      <th>Trips &lt;1 Mile</th>\n",
       "      <th>Value Formatted for Tooltip</th>\n",
       "      <th>Value of Selected Metric</th>\n",
       "    </tr>\n",
       "  </thead>\n",
       "  <tbody>\n",
       "    <tr>\n",
       "      <th>0</th>\n",
       "      <td>2020-01-01</td>\n",
       "      <td>January</td>\n",
       "      <td>True</td>\n",
       "      <td>1</td>\n",
       "      <td>State</td>\n",
       "      <td>VA</td>\n",
       "      <td>23.941</td>\n",
       "      <td>6478489</td>\n",
       "      <td>2039196</td>\n",
       "      <td>25522612</td>\n",
       "      <td>...</td>\n",
       "      <td>218636</td>\n",
       "      <td>1173743</td>\n",
       "      <td>50974</td>\n",
       "      <td>3260308</td>\n",
       "      <td>4016041</td>\n",
       "      <td>423739</td>\n",
       "      <td>21559</td>\n",
       "      <td>6264548</td>\n",
       "      <td>25522612</td>\n",
       "      <td>25522612</td>\n",
       "    </tr>\n",
       "    <tr>\n",
       "      <th>1</th>\n",
       "      <td>2020-01-02</td>\n",
       "      <td>January</td>\n",
       "      <td>True</td>\n",
       "      <td>1</td>\n",
       "      <td>State</td>\n",
       "      <td>VA</td>\n",
       "      <td>19.651</td>\n",
       "      <td>6843871</td>\n",
       "      <td>1673814</td>\n",
       "      <td>31526413</td>\n",
       "      <td>...</td>\n",
       "      <td>185189</td>\n",
       "      <td>1632255</td>\n",
       "      <td>40252</td>\n",
       "      <td>3902898</td>\n",
       "      <td>4996092</td>\n",
       "      <td>526131</td>\n",
       "      <td>16735</td>\n",
       "      <td>7662540</td>\n",
       "      <td>31526413</td>\n",
       "      <td>31526413</td>\n",
       "    </tr>\n",
       "    <tr>\n",
       "      <th>2</th>\n",
       "      <td>2020-01-03</td>\n",
       "      <td>January</td>\n",
       "      <td>True</td>\n",
       "      <td>1</td>\n",
       "      <td>State</td>\n",
       "      <td>VA</td>\n",
       "      <td>19.589</td>\n",
       "      <td>6849158</td>\n",
       "      <td>1668527</td>\n",
       "      <td>31806752</td>\n",
       "      <td>...</td>\n",
       "      <td>199343</td>\n",
       "      <td>1629397</td>\n",
       "      <td>40149</td>\n",
       "      <td>4005394</td>\n",
       "      <td>5113597</td>\n",
       "      <td>515820</td>\n",
       "      <td>17196</td>\n",
       "      <td>7526564</td>\n",
       "      <td>31806752</td>\n",
       "      <td>31806752</td>\n",
       "    </tr>\n",
       "    <tr>\n",
       "      <th>3</th>\n",
       "      <td>2020-01-04</td>\n",
       "      <td>January</td>\n",
       "      <td>True</td>\n",
       "      <td>1</td>\n",
       "      <td>State</td>\n",
       "      <td>VA</td>\n",
       "      <td>21.682</td>\n",
       "      <td>6670860</td>\n",
       "      <td>1846825</td>\n",
       "      <td>29569361</td>\n",
       "      <td>...</td>\n",
       "      <td>217323</td>\n",
       "      <td>1352862</td>\n",
       "      <td>45055</td>\n",
       "      <td>3870885</td>\n",
       "      <td>4740812</td>\n",
       "      <td>478608</td>\n",
       "      <td>19441</td>\n",
       "      <td>7022907</td>\n",
       "      <td>29569361</td>\n",
       "      <td>29569361</td>\n",
       "    </tr>\n",
       "    <tr>\n",
       "      <th>4</th>\n",
       "      <td>2020-01-05</td>\n",
       "      <td>January</td>\n",
       "      <td>True</td>\n",
       "      <td>1</td>\n",
       "      <td>State</td>\n",
       "      <td>VA</td>\n",
       "      <td>23.165</td>\n",
       "      <td>6544589</td>\n",
       "      <td>1973096</td>\n",
       "      <td>26772185</td>\n",
       "      <td>...</td>\n",
       "      <td>213078</td>\n",
       "      <td>1135395</td>\n",
       "      <td>48454</td>\n",
       "      <td>3558446</td>\n",
       "      <td>4399892</td>\n",
       "      <td>409054</td>\n",
       "      <td>24463</td>\n",
       "      <td>6269765</td>\n",
       "      <td>26772185</td>\n",
       "      <td>26772185</td>\n",
       "    </tr>\n",
       "  </tbody>\n",
       "</table>\n",
       "<p>5 rows × 22 columns</p>\n",
       "</div>"
      ],
      "text/plain": [
       "        Date    Month  Selected State  Selected Set  Level State Code  \\\n",
       "0 2020-01-01  January            True             1  State         VA   \n",
       "1 2020-01-02  January            True             1  State         VA   \n",
       "2 2020-01-03  January            True             1  State         VA   \n",
       "3 2020-01-04  January            True             1  State         VA   \n",
       "4 2020-01-05  January            True             1  State         VA   \n",
       "\n",
       "   Percent of People Staying at Home  Population Not Staying at Home  \\\n",
       "0                             23.941                         6478489   \n",
       "1                             19.651                         6843871   \n",
       "2                             19.589                         6849158   \n",
       "3                             21.682                         6670860   \n",
       "4                             23.165                         6544589   \n",
       "\n",
       "   Population Staying at Home     Trips  ...  Trips 100-250 Miles  \\\n",
       "0                     2039196  25522612  ...               218636   \n",
       "1                     1673814  31526413  ...               185189   \n",
       "2                     1668527  31806752  ...               199343   \n",
       "3                     1846825  29569361  ...               217323   \n",
       "4                     1973096  26772185  ...               213078   \n",
       "\n",
       "   Trips 25-50 Miles  Trips 250-500 Miles  Trips 3-5 Miles  Trips 5-10 Miles  \\\n",
       "0            1173743                50974          3260308           4016041   \n",
       "1            1632255                40252          3902898           4996092   \n",
       "2            1629397                40149          4005394           5113597   \n",
       "3            1352862                45055          3870885           4740812   \n",
       "4            1135395                48454          3558446           4399892   \n",
       "\n",
       "   Trips 50-100 Miles  Trips 500+ Miles  Trips <1 Mile  \\\n",
       "0              423739             21559        6264548   \n",
       "1              526131             16735        7662540   \n",
       "2              515820             17196        7526564   \n",
       "3              478608             19441        7022907   \n",
       "4              409054             24463        6269765   \n",
       "\n",
       "   Value Formatted for Tooltip  Value of Selected Metric  \n",
       "0                     25522612                  25522612  \n",
       "1                     31526413                  31526413  \n",
       "2                     31806752                  31806752  \n",
       "3                     29569361                  29569361  \n",
       "4                     26772185                  26772185  \n",
       "\n",
       "[5 rows x 22 columns]"
      ]
     },
     "execution_count": 148,
     "metadata": {},
     "output_type": "execute_result"
    }
   ],
   "source": [
    "# importing BTS dataset (confirm that openpyxl package is installed before this step)\n",
    "VATrips2020 = pd.read_excel('D:\\PHEF Case Study\\TripsbyDistanceVA2020.xlsx')\n",
    "VATrips2020.head()"
   ]
  },
  {
   "cell_type": "code",
   "execution_count": 160,
   "metadata": {},
   "outputs": [
    {
     "data": {
      "image/png": "[encoded data removed]",
      "text/plain": [
       "<Figure size 842.4x595.44 with 1 Axes>"
      ]
     },
     "metadata": {},
     "output_type": "display_data"
    }
   ],
   "source": [
    "# Plot Trips per day for 2020\n",
    "TripsDay = sns.lineplot(data=VATrips2020, x='Date', y='Trips')"
   ]
  },
  {
   "cell_type": "markdown",
   "metadata": {},
   "source": [
    " Above is a line plot with the daily fluctuations shown. The graph will work but there is a better way to display the trends in the data. "
   ]
  },
  {
   "cell_type": "code",
   "execution_count": 172,
   "metadata": {
    "scrolled": false
   },
   "outputs": [
    {
     "name": "stdout",
     "output_type": "stream",
     "text": [
      "Using categorical units to plot a list of strings that are all parsable as floats or dates. If these strings should be plotted as numbers, cast to the appropriate data type before plotting.\n",
      "Using categorical units to plot a list of strings that are all parsable as floats or dates. If these strings should be plotted as numbers, cast to the appropriate data type before plotting.\n"
     ]
    },
    {
     "name": "stderr",
     "output_type": "stream",
     "text": [
      "C:\\ProgramData\\Anaconda3\\envs\\pathways-ds\\lib\\site-packages\\ipykernel_launcher.py:6: UserWarning: FixedFormatter should only be used together with FixedLocator\n",
      "  \n"
     ]
    },
    {
     "data": {
      "text/plain": [
       "[Text(0, 0.5, 'Trips(Tens of Millions)')]"
      ]
     },
     "execution_count": 172,
     "metadata": {},
     "output_type": "execute_result"
    },
    {
     "data": {
      "image/png": "[encoded data removed]",
      "text/plain": [
       "<Figure size 842.4x595.44 with 1 Axes>"
      ]
     },
     "metadata": {},
     "output_type": "display_data"
    }
   ],
   "source": [
    "# Plot Trips per Month for 2020 \n",
    "Trips = sns.lineplot(data=VATrips2020, x='Month', y='Trips')\n",
    "# Writing labels to a variable \n",
    "labels=(['January', 'February', 'March', 'April', 'May', 'June', 'July', 'August', 'September', 'October', 'November', 'December'])\n",
    "#Manipulating label position, y ranges, and y axis label\n",
    "Trips.set_xticklabels(labels, rotation=45)\n",
    "Trips.set_ylim(22000000,35000000)\n",
    "Trips.set(ylabel='Trips(Tens of Millions)')"
   ]
  },
  {
   "cell_type": "markdown",
   "metadata": {},
   "source": [
    "The graph below shows the mean of total trips as the solid line with the variance showing in the lightly shaded area around the line. This graph does a much better job of displaying the overall trend but does miss some of the peaks and valleys of the daily chart.\n",
    "\n",
    "Both charts show that the number of trips decreased significantly with large fluctuations during March, April, and May; the first few months when restrictions tightened to stop the spread of COVID-19. Excluding these months travel trended downward steadily throughout the year, decreasing by nearly 10 million from the highest peak to the lowest valley and around 6.6 million when comparing the starting and ending month averages. \n",
    "\n",
    "The impact that this massive decrease in trips had on congestion is evident as the total numbers of congested routes fell from 2019 to 2020 on both the weekday and weekend. However, we know from our previous calculations that the decrease in trips had little impact on the routes with severe congestion issues. \n",
    "\n",
    "The continued rise in congested route features with extreme travel time solidifies the trend that initially was observed in the 2018-2019 comparison. Given the prevalence of intersections among the congested features as well as the rapid uptick in peak travel time length, what are some methods for combating congestion and improving traffic flow?"
   ]
  },
  {
   "cell_type": "markdown",
   "metadata": {},
   "source": [
    "## Conclusions"
   ]
  },
  {
   "cell_type": "markdown",
   "metadata": {},
   "source": [
    "As far as physical infrastructure is concerned, there are a variety of improvements that can be made to ease congestion by improving the flow of traffic. Setting aside improvements that focus on increasing the physical size of the intersection (adding more lanes, allowing more turning space in the intersection, etc.) roundabouts are an effective method of limiting congestion as they provide near-continuous traffic flow around an intersection. Roundabouts negate the need for traffic signal systems and facilitate quick ingress/egress of intersections. Roundabouts are already utilized across Virginia, notably in Richmond along Monument Avenue and the Laburnam Ave intersection with Interstate-195.  \n",
    "\n",
    "\n",
    "\n",
    "Another avenue of traffic easing is alternative transportation. Mass Transit Systems such as bus, metro, and train networks allow large numbers of people to move around cities and states with relative ease. Proper implementation, utilization, and maintenance of these systems has the added benefit of reducing overall CO2 emissions while reducing travel time. Though such programs carry with them a large cost, the long term payoff is almost always worth the investment. Encouraging bicycle travel by converting existing infrastructure to accommodate bike lanes presents another method of reducing vehicular traffic. Recently, lane conversions on parts of Patterson Avenue to provide a protected thoroughfare for cyclists were implemented with a minimal impact on overall traffic flow. \n",
    "\n",
    "\n",
    "\n",
    "In addition to the infrastructure implementations, there are improvements that can be made to traffic control systems that have a positive impact on traffic flow. Traditionally, traffic control systems have been largely static in nature with a few set modes for special cases. In recent years, software improvements have successfully proved the capability and feasibility of a more dynamic traffic control system. One example of this is a Case-based Reasoning (CBR) system that retrieves a case-based scenario from a database, calculates a signal plan based on both the case parameters and the scenario details, runs a simulation of the signal plan and then executes the plan based on suitability (Kofod-Peterson, Andersen, Aamodt 2014). The implementation of this CBR system or a similar dynamic traffic control system would likely improve the efficiency of traffic flow throughout the area of use. \n",
    "\n",
    "\n",
    "These are only a few potential solutions to the increasing congestion near intersections and it is extremely likely that more than one congestion easing improvement project will be necessary to successfully limit and eventually reduce congestion overall."
   ]
  },
  {
   "cell_type": "markdown",
   "metadata": {},
   "source": [
    "## References"
   ]
  },
  {
   "cell_type": "markdown",
   "metadata": {},
   "source": [
    "1. Kofod-Petersen, A., Andersen, O. J., & Aamodt, A. (2014, September). Case-based reasoning for improving traffic flow in urban intersections. In International Conference on Case-Based Reasoning (pp. 215-229). Springer, Cham."
   ]
  },
  {
   "cell_type": "code",
   "execution_count": null,
   "metadata": {},
   "outputs": [],
   "source": []
  }
 ],
 "metadata": {
  "interpreter": {
   "hash": "a0b8e9102a81968c51b3f02854b399a9ecc33d96f504fd445f09f6dbb9c7ae14"
  },
  "kernelspec": {
   "display_name": "Python 3 (ipykernel)",
   "language": "python",
   "name": "python3"
  },
  "language_info": {
   "codemirror_mode": {
    "name": "ipython",
    "version": 3
   },
   "file_extension": ".py",
   "mimetype": "text/x-python",
   "name": "python",
   "nbconvert_exporter": "python",
   "pygments_lexer": "ipython3",
   "version": "3.7.10"
  }
 },
 "nbformat": 4,
 "nbformat_minor": 4
}
