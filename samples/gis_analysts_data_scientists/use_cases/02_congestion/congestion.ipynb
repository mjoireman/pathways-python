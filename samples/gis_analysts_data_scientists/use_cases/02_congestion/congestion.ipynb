{
 "cells": [
  {
   "cell_type": "markdown",
   "metadata": {},
   "source": [
    "## Introduction\n"
   ]
  },
  {
   "cell_type": "markdown",
   "metadata": {},
   "source": [
    "This notebook aims to highlight routes with high and/or increasing congestion scores from the Peak Hour Expansion Factor (PHEF) layers on Pathways for Planning and provide strategies aimed at limiting the increase in congestion along these routes and easing congestion overall. Starting with the 2018 data, the peak hour scoring has been divided into categories, with a higher number indicating the number of times a particular segment is congested per day. A minimum score of 1.5 is needed for a route to be considered congested. 1.5 = 50% more travel time along a route than the free flowing travel time. Additionally, SMART SCALE does not differentiate between PHEF values once they have exceed 5."
   ]
  },
  {
   "cell_type": "markdown",
   "metadata": {},
   "source": [
    "### Imports"
   ]
  },
  {
   "cell_type": "code",
   "execution_count": 46,
   "metadata": {},
   "outputs": [],
   "source": [
    "import cartoframes\n",
    "import pathways\n",
    "from cartoframes.viz import Map, Layer, color_category_style\n",
    "from pathways.auth import set_default_credentials\n",
    "from pathways.catalog import search\n",
    "import geopandas as gpd\n",
    "import pandas as pd\n",
    "import seaborn as sns\n",
    "import matplotlib.pyplot as plt\n",
    "import numpy as np\n",
    "from pathways.display import display_info"
   ]
  },
  {
   "cell_type": "code",
   "execution_count": 2,
   "metadata": {},
   "outputs": [],
   "source": [
    "cartoframes.utils.setup_metrics(False)"
   ]
  },
  {
   "cell_type": "markdown",
   "metadata": {},
   "source": [
    "### Setting up Pathways client"
   ]
  },
  {
   "cell_type": "code",
   "execution_count": 3,
   "metadata": {},
   "outputs": [],
   "source": [
    "#set_default_credentials('creds.json')"
   ]
  },
  {
   "cell_type": "markdown",
   "metadata": {},
   "source": [
    "### Source Datasets for Analysis"
   ]
  },
  {
   "cell_type": "code",
   "execution_count": 4,
   "metadata": {},
   "outputs": [
    {
     "data": {
      "text/html": [
       "<div>\n",
       "<style scoped>\n",
       "    .dataframe tbody tr th:only-of-type {\n",
       "        vertical-align: middle;\n",
       "    }\n",
       "\n",
       "    .dataframe tbody tr th {\n",
       "        vertical-align: top;\n",
       "    }\n",
       "\n",
       "    .dataframe thead th {\n",
       "        text-align: right;\n",
       "    }\n",
       "</style>\n",
       "<table border=\"1\" class=\"dataframe\">\n",
       "  <thead>\n",
       "    <tr style=\"text-align: right;\">\n",
       "      <th></th>\n",
       "      <th>Id</th>\n",
       "      <th>Name</th>\n",
       "      <th>DisplayName</th>\n",
       "      <th>GeometryType</th>\n",
       "    </tr>\n",
       "  </thead>\n",
       "  <tbody>\n",
       "    <tr>\n",
       "      <th>0</th>\n",
       "      <td>d59fd5a8-d375-48f7-90cc-5b4d2e9ffe44</td>\n",
       "      <td>Peak Hour Expansion Factor 2020</td>\n",
       "      <td>Peak Hour Expansion Factor 2020</td>\n",
       "      <td>LrsLine</td>\n",
       "    </tr>\n",
       "    <tr>\n",
       "      <th>1</th>\n",
       "      <td>55cf50b3-882b-4b8d-bbcf-7d48ea749cd3</td>\n",
       "      <td>Peak Hour Expansion Factor Weekday 2018</td>\n",
       "      <td>Peak Hour Expansion Factor Weekday 2018</td>\n",
       "      <td>LrsLine</td>\n",
       "    </tr>\n",
       "    <tr>\n",
       "      <th>2</th>\n",
       "      <td>7e7ba4ee-f690-46e5-a214-58b730deeec6</td>\n",
       "      <td>Peak Hour Expansion Factor Weekday 2019</td>\n",
       "      <td>Peak Hour Expansion Factor Weekday 2019</td>\n",
       "      <td>LrsLine</td>\n",
       "    </tr>\n",
       "    <tr>\n",
       "      <th>3</th>\n",
       "      <td>c04d3c37-2824-4ecf-81b1-8140726bb745</td>\n",
       "      <td>Peak Hour Expansion Factor Weekend 2018</td>\n",
       "      <td>Peak Hour Expansion Factor Weekend 2018</td>\n",
       "      <td>LrsLine</td>\n",
       "    </tr>\n",
       "    <tr>\n",
       "      <th>4</th>\n",
       "      <td>94fa7469-a435-4794-a2e5-4a5ba3f7aa32</td>\n",
       "      <td>Peak Hour Expansion Factor Weekend 2019</td>\n",
       "      <td>Peak Hour Expansion Factor Weekend 2019</td>\n",
       "      <td>LrsLine</td>\n",
       "    </tr>\n",
       "    <tr>\n",
       "      <th>5</th>\n",
       "      <td>22802ade-9a85-4ac8-a7d0-508f29ddd4cb</td>\n",
       "      <td>Peak Hourly Expansion Factor 2017</td>\n",
       "      <td>Peak Hourly Expansion Factor 2017</td>\n",
       "      <td>Polyline</td>\n",
       "    </tr>\n",
       "    <tr>\n",
       "      <th>6</th>\n",
       "      <td>00a0686e-ac15-413d-8145-9835e8718b6f</td>\n",
       "      <td>Weighted Peak Hour Expansion Factor 2018</td>\n",
       "      <td>Weighted Peak Hour Expansion Factor 2018</td>\n",
       "      <td>LrsLine</td>\n",
       "    </tr>\n",
       "    <tr>\n",
       "      <th>7</th>\n",
       "      <td>ce03f8e8-82d6-4d48-9b7e-d58677d9b67b</td>\n",
       "      <td>Weighted Peak Hour Expansion Factor 2019</td>\n",
       "      <td>Weighted Peak Hour Expansion Factor 2019</td>\n",
       "      <td>LrsLine</td>\n",
       "    </tr>\n",
       "  </tbody>\n",
       "</table>\n",
       "</div>"
      ],
      "text/plain": [
       "                                     Id  \\\n",
       "0  d59fd5a8-d375-48f7-90cc-5b4d2e9ffe44   \n",
       "1  55cf50b3-882b-4b8d-bbcf-7d48ea749cd3   \n",
       "2  7e7ba4ee-f690-46e5-a214-58b730deeec6   \n",
       "3  c04d3c37-2824-4ecf-81b1-8140726bb745   \n",
       "4  94fa7469-a435-4794-a2e5-4a5ba3f7aa32   \n",
       "5  22802ade-9a85-4ac8-a7d0-508f29ddd4cb   \n",
       "6  00a0686e-ac15-413d-8145-9835e8718b6f   \n",
       "7  ce03f8e8-82d6-4d48-9b7e-d58677d9b67b   \n",
       "\n",
       "                                       Name  \\\n",
       "0           Peak Hour Expansion Factor 2020   \n",
       "1   Peak Hour Expansion Factor Weekday 2018   \n",
       "2   Peak Hour Expansion Factor Weekday 2019   \n",
       "3   Peak Hour Expansion Factor Weekend 2018   \n",
       "4   Peak Hour Expansion Factor Weekend 2019   \n",
       "5         Peak Hourly Expansion Factor 2017   \n",
       "6  Weighted Peak Hour Expansion Factor 2018   \n",
       "7  Weighted Peak Hour Expansion Factor 2019   \n",
       "\n",
       "                                DisplayName GeometryType  \n",
       "0           Peak Hour Expansion Factor 2020      LrsLine  \n",
       "1   Peak Hour Expansion Factor Weekday 2018      LrsLine  \n",
       "2   Peak Hour Expansion Factor Weekday 2019      LrsLine  \n",
       "3   Peak Hour Expansion Factor Weekend 2018      LrsLine  \n",
       "4   Peak Hour Expansion Factor Weekend 2019      LrsLine  \n",
       "5         Peak Hourly Expansion Factor 2017     Polyline  \n",
       "6  Weighted Peak Hour Expansion Factor 2018      LrsLine  \n",
       "7  Weighted Peak Hour Expansion Factor 2019      LrsLine  "
      ]
     },
     "execution_count": 4,
     "metadata": {},
     "output_type": "execute_result"
    }
   ],
   "source": [
    "datasets = search('expansion')\n",
    "datasets"
   ]
  },
  {
   "cell_type": "markdown",
   "metadata": {},
   "source": [
    "Next, we will read in the datasets that we will use for analysis, assigning each to a variable."
   ]
  },
  {
   "cell_type": "code",
   "execution_count": 5,
   "metadata": {},
   "outputs": [
    {
     "name": "stderr",
     "output_type": "stream",
     "text": [
      "downloading from pathways:: 28.2MB [00:26, 1.08MB/s]                                                                   \n",
      "downloading from pathways:: 28.2MB [00:25, 1.11MB/s]                                                                   \n",
      "downloading from pathways:: 28.2MB [00:30, 919kB/s]                                                                    \n",
      "downloading from pathways:: 28.2MB [00:29, 950kB/s]                                                                    \n",
      "downloading from pathways:: 26.8MB [00:24, 1.09MB/s]                                                                   \n"
     ]
    }
   ],
   "source": [
    "\n",
    "phef2018weekday_df = pathways.read_dataset('55cf50b3-882b-4b8d-bbcf-7d48ea749cd3')\n",
    "phef2018weekend_df = pathways.read_dataset('c04d3c37-2824-4ecf-81b1-8140726bb745')\n",
    "phef2019weekday_df = pathways.read_dataset('7e7ba4ee-f690-46e5-a214-58b730deeec6')\n",
    "phef2019weekend_df = pathways.read_dataset('94fa7469-a435-4794-a2e5-4a5ba3f7aa32')\n",
    "phef2020_df = pathways.read_dataset('d59fd5a8-d375-48f7-90cc-5b4d2e9ffe44')\n"
   ]
  },
  {
   "cell_type": "markdown",
   "metadata": {},
   "source": [
    "### Preparing Data for Anaylsis"
   ]
  },
  {
   "cell_type": "markdown",
   "metadata": {},
   "source": [
    "To begin, we will examine the Congestion (PHEF) Score distribution in the 2018 datasets. First we will create a subset of the data that identifies routes that are considered congested and plot the data to see the distribution."
   ]
  },
  {
   "cell_type": "code",
   "execution_count": 20,
   "metadata": {},
   "outputs": [],
   "source": [
    "subset_phef2018weekday_df = phef2018weekday_df[(phef2018weekday_df.PHEF >= 1.5)]"
   ]
  },
  {
   "cell_type": "code",
   "execution_count": 21,
   "metadata": {},
   "outputs": [
    {
     "data": {
      "text/plain": [
       "<AxesSubplot:xlabel='PHEF', ylabel='Count'>"
      ]
     },
     "execution_count": 21,
     "metadata": {},
     "output_type": "execute_result"
    },
    {
     "data": {
      "image/png": "[encoded data removed]",
      "text/plain": [
       "<Figure size 432x288 with 1 Axes>"
      ]
     },
     "metadata": {
      "needs_background": "light"
     },
     "output_type": "display_data"
    }
   ],
   "source": [
    "sns.histplot(data=subset_phef2018weekday_df, x='PHEF', binwidth = 1)"
   ]
  },
  {
   "cell_type": "markdown",
   "metadata": {},
   "source": [
    "From the graph we can see that the the majority of congested routes are concentrated under 5 PHEF Score, primarily within the 1.5-4.5 Score range. However, this is only a piece of the data that we will need to analyze route congestion over time. Next we will calculate the percentage congested routes make up of the total route features.  "
   ]
  },
  {
   "cell_type": "code",
   "execution_count": 62,
   "metadata": {},
   "outputs": [
    {
     "data": {
      "text/plain": [
       "Shape_Length    2126\n",
       "RTE_NM          2075\n",
       "FROM_MEASURE    1871\n",
       "TO_MEASURE      1871\n",
       "TMC             2126\n",
       "                ... \n",
       "AM_MAX          2126\n",
       "PM_MAX          2126\n",
       "AM_PHEF         2126\n",
       "PM_PHEF         2126\n",
       "geometry        1871\n",
       "Length: 86, dtype: int64"
      ]
     },
     "execution_count": 62,
     "metadata": {},
     "output_type": "execute_result"
    }
   ],
   "source": [
    "# Get a count of the number of congested routes for 2018 weekday (2126)\n",
    "subset_phef2018weekday_df.count()"
   ]
  },
  {
   "cell_type": "code",
   "execution_count": 63,
   "metadata": {},
   "outputs": [
    {
     "name": "stdout",
     "output_type": "stream",
     "text": [
      "0.09809892949427833\n"
     ]
    }
   ],
   "source": [
    "# Percent of the 2018 weekday data that is congested\n",
    "congested2018weekday = subset_phef2018weekday_df.count()\n",
    "percent2018weekday =congested2018weekday.divide(other = 21672)\n",
    "print(percent2018weekday.PHEF)"
   ]
  },
  {
   "cell_type": "markdown",
   "metadata": {},
   "source": [
    "From these calculations, we can see that the percentage of congested routes in the 2018 weekday data is 9.81%. Next we will follow the same process for the weekend 2018 data. Both feature classes have a total number of 21672 route features."
   ]
  },
  {
   "cell_type": "code",
   "execution_count": 23,
   "metadata": {},
   "outputs": [],
   "source": [
    "# Get the same count of congested routes for 2018 weekend data\n",
    "subset_phef2018weekend_df = phef2018weekend_df[(phef2018weekend_df.PHEF >= 1.5)]"
   ]
  },
  {
   "cell_type": "code",
   "execution_count": 54,
   "metadata": {},
   "outputs": [
    {
     "data": {
      "text/plain": [
       "<AxesSubplot:xlabel='PHEF', ylabel='Count'>"
      ]
     },
     "execution_count": 54,
     "metadata": {},
     "output_type": "execute_result"
    },
    {
     "data": {
      "image/png": "[encoded data removed]",
      "text/plain": [
       "<Figure size 432x288 with 1 Axes>"
      ]
     },
     "metadata": {
      "needs_background": "light"
     },
     "output_type": "display_data"
    }
   ],
   "source": [
    "#Plot the distribution of congested routes\n",
    "sns.histplot(data=subset_phef2018weekend_df, x='PHEF', binwidth = 1)"
   ]
  },
  {
   "cell_type": "code",
   "execution_count": 25,
   "metadata": {},
   "outputs": [
    {
     "data": {
      "text/plain": [
       "Shape_Length    1267\n",
       "RTE_NM          1241\n",
       "FROM_MEASURE    1088\n",
       "TO_MEASURE      1088\n",
       "TMC             1267\n",
       "                ... \n",
       "AM_MAX          1267\n",
       "PM_MAX          1267\n",
       "AM_PHEF         1267\n",
       "PM_PHEF         1267\n",
       "geometry        1088\n",
       "Length: 86, dtype: int64"
      ]
     },
     "execution_count": 25,
     "metadata": {},
     "output_type": "execute_result"
    }
   ],
   "source": [
    "# 1267 routes are congested \n",
    "subset_phef2018weekend_df.count()"
   ]
  },
  {
   "cell_type": "code",
   "execution_count": 43,
   "metadata": {},
   "outputs": [
    {
     "name": "stdout",
     "output_type": "stream",
     "text": [
      "0.058462532299741604\n"
     ]
    }
   ],
   "source": [
    "# Percent of the 2018 weekend data that is congested\n",
    "congested2018weekend = subset_phef2018weekend_df.count()\n",
    "percent2018weekend =congested2018weekend.divide(other = 21672)\n",
    "print(percent2018weekend.PHEF)"
   ]
  },
  {
   "cell_type": "markdown",
   "metadata": {},
   "source": [
    "Now that we have the percentages and distribution for the 2018 data we will do the same for the 2019 data. "
   ]
  },
  {
   "cell_type": "code",
   "execution_count": 45,
   "metadata": {},
   "outputs": [
    {
     "data": {
      "text/plain": [
       "<AxesSubplot:xlabel='PHEF', ylabel='Count'>"
      ]
     },
     "execution_count": 45,
     "metadata": {},
     "output_type": "execute_result"
    },
    {
     "data": {
      "image/png": "[encoded data removed]",
      "text/plain": [
       "<Figure size 432x288 with 1 Axes>"
      ]
     },
     "metadata": {
      "needs_background": "light"
     },
     "output_type": "display_data"
    }
   ],
   "source": [
    "# Calculating 2019 weekday data\n",
    "subset_phef2019weekday_df = phef2019weekday_df[(phef2019weekday_df.PHEF >= 1.5)]\n",
    "sns.histplot(data=subset_phef2019weekday_df, x='PHEF', binwidth = 1)"
   ]
  },
  {
   "cell_type": "code",
   "execution_count": 61,
   "metadata": {},
   "outputs": [
    {
     "name": "stdout",
     "output_type": "stream",
     "text": [
      "0.1352436323366556\n"
     ]
    }
   ],
   "source": [
    "# Calculating percentage of total routes that are congested\n",
    "congested2019weekday = subset_phef2019weekday_df.count()\n",
    "percent2019weekday =congested2019weekday.divide(other = 21672)\n",
    "print(percent2019weekday.PHEF)"
   ]
  },
  {
   "cell_type": "code",
   "execution_count": 65,
   "metadata": {},
   "outputs": [
    {
     "data": {
      "text/plain": [
       "<AxesSubplot:xlabel='PHEF', ylabel='Count'>"
      ]
     },
     "execution_count": 65,
     "metadata": {},
     "output_type": "execute_result"
    },
    {
     "data": {
      "image/png": "[encoded data removed]",
      "text/plain": [
       "<Figure size 432x288 with 1 Axes>"
      ]
     },
     "metadata": {
      "needs_background": "light"
     },
     "output_type": "display_data"
    }
   ],
   "source": [
    "# Calculating 2019 weekend data\n",
    "subset_phef2019weekend_df = phef2019weekend_df[(phef2019weekend_df.PHEF >= 1.5)]\n",
    "sns.histplot(data=subset_phef2019weekend_df, x='PHEF', binwidth = 1)"
   ]
  },
  {
   "cell_type": "code",
   "execution_count": 66,
   "metadata": {},
   "outputs": [
    {
     "name": "stdout",
     "output_type": "stream",
     "text": [
      "0.07964193429309709\n"
     ]
    }
   ],
   "source": [
    "# Calculating percentage of total routes that are congested\n",
    "congested2019weekend = subset_phef2019weekend_df.count()\n",
    "percent2019weekend =congested2019weekend.divide(other = 21672)\n",
    "print(percent2019weekend.PHEF)"
   ]
  },
  {
   "cell_type": "markdown",
   "metadata": {},
   "source": [
    "### 2018-2019 comparisons"
   ]
  },
  {
   "cell_type": "markdown",
   "metadata": {},
   "source": [
    "Now that we have both the 2018 and 2019 data we can begin to draw conclusions from it. First we will plot the distribution of the weekday data together."
   ]
  },
  {
   "cell_type": "code",
   "execution_count": 67,
   "metadata": {},
   "outputs": [
    {
     "data": {
      "text/plain": [
       "<AxesSubplot:xlabel='PHEF', ylabel='Count'>"
      ]
     },
     "execution_count": 67,
     "metadata": {},
     "output_type": "execute_result"
    },
    {
     "data": {
      "image/png": "[encoded data removed]",
      "text/plain": [
       "<Figure size 432x288 with 1 Axes>"
      ]
     },
     "metadata": {
      "needs_background": "light"
     },
     "output_type": "display_data"
    }
   ],
   "source": [
    "# Comparing 2018-2019 weekday data\n",
    "# Distribution of congested routes shifts drastically\n",
    "sns.histplot(data=subset_phef2018weekday_df, x='PHEF', binwidth = 1, color = 'blue', alpha =.7)\n",
    "sns.histplot(data=subset_phef2019weekday_df, x='PHEF', binwidth = 1, color= 'red', alpha=.7)"
   ]
  },
  {
   "cell_type": "markdown",
   "metadata": {},
   "source": [
    "The shift in the distribution of routes among the PHEF scoring categories is the most important change to note. In 2018 the largest number of congested routes is within the 1.5-2.5 score range, a relatively small peak travel time period. In 2019, while the 1.5-2.5 score category appears to remain dominant if we combine the 2019 score categories that are 5 PHEF score or above..."
   ]
  },
  {
   "cell_type": "code",
   "execution_count": 76,
   "metadata": {},
   "outputs": [
    {
     "data": {
      "text/plain": [
       "Shape_Length    1377\n",
       "RTE_NM          1365\n",
       "FROM_MEASURE    1160\n",
       "TO_MEASURE      1160\n",
       "TMC             1377\n",
       "                ... \n",
       "F9_00_PM        1377\n",
       "PHEF            1377\n",
       "AM_MAX          1377\n",
       "PM_MAX          1377\n",
       "geometry        1160\n",
       "Length: 84, dtype: int64"
      ]
     },
     "execution_count": 76,
     "metadata": {},
     "output_type": "execute_result"
    }
   ],
   "source": [
    "above52019weekday = phef2019weekday_df[(phef2019weekday_df.PHEF >= 5)]\n",
    "above52019weekday.count()"
   ]
  },
  {
   "cell_type": "markdown",
   "metadata": {},
   "source": [
    "we can see that the 5 or greater PHEF scores are significantly higher than the number of congested routes within the 1.5-2.5 PHEF score range. "
   ]
  },
  {
   "cell_type": "markdown",
   "metadata": {},
   "source": [
    "Of the 21,672 features within the 2018 and 2019 Weekday PHEF layers 2,126 (9.81%) and 2,931 (13.52%) features have been flagged as congested respectively. Since we know that there was no increase in total features, what is the cause of this increase in heavily congested routes? "
   ]
  },
  {
   "cell_type": "markdown",
   "metadata": {},
   "source": [
    "Taking a broader look at these datasets in geospatial applications we can see that the features within the 5+ PHEF score categories are relatively small when compared with less congested route features. To confirm whether this is a trend we will construct a query based around the shape_length field. "
   ]
  },
  {
   "cell_type": "code",
   "execution_count": 79,
   "metadata": {},
   "outputs": [
    {
     "data": {
      "text/plain": [
       "Shape_Length    981\n",
       "RTE_NM          969\n",
       "FROM_MEASURE    764\n",
       "TO_MEASURE      764\n",
       "TMC             981\n",
       "               ... \n",
       "F9_00_PM        981\n",
       "PHEF            981\n",
       "AM_MAX          981\n",
       "PM_MAX          981\n",
       "geometry        764\n",
       "Length: 84, dtype: int64"
      ]
     },
     "execution_count": 79,
     "metadata": {},
     "output_type": "execute_result"
    }
   ],
   "source": [
    "# Calculating the number of highly congested routes under 100 meters in length\n",
    "smallcongestedroutesweekday2019 = above52019weekday[(above52019weekday.Shape_Length <= 100)]\n",
    "smallcongestedroutesweekday2019.count()"
   ]
  },
  {
   "cell_type": "code",
   "execution_count": 81,
   "metadata": {},
   "outputs": [
    {
     "name": "stdout",
     "output_type": "stream",
     "text": [
      "0.7124183006535948\n"
     ]
    }
   ],
   "source": [
    "# Percentage of highly congested routes that are under 100 meters\n",
    "shortcongested2019weekday = smallcongestedroutesweekday2019.count()\n",
    "percentshort2019weekday =shortcongested2019weekday.divide(other = 1377)\n",
    "print(percentshort2019weekday.PHEF)"
   ]
  },
  {
   "cell_type": "markdown",
   "metadata": {},
   "source": [
    "981 of the 1377 (71.2%) route segments with PHEF scores of 5 or higher were found to be 100 meters or less in length. All of which are in the immediate vicinity of an intersection. "
   ]
  },
  {
   "cell_type": "code",
   "execution_count": 82,
   "metadata": {},
   "outputs": [
    {
     "data": {
      "text/plain": [
       "Shape_Length    1068\n",
       "RTE_NM          1056\n",
       "FROM_MEASURE     900\n",
       "TO_MEASURE       900\n",
       "TMC             1068\n",
       "                ... \n",
       "F9_00_PM        1068\n",
       "PHEF            1068\n",
       "AM_MAX          1068\n",
       "PM_MAX          1068\n",
       "geometry         900\n",
       "Length: 84, dtype: int64"
      ]
     },
     "execution_count": 82,
     "metadata": {},
     "output_type": "execute_result"
    }
   ],
   "source": [
    "above52019weekend = phef2019weekend_df[(phef2019weekend_df.PHEF >= 5)]\n",
    "above52019weekend.count()"
   ]
  },
  {
   "cell_type": "code",
   "execution_count": 86,
   "metadata": {},
   "outputs": [
    {
     "data": {
      "text/plain": [
       "Shape_Length    776\n",
       "RTE_NM          764\n",
       "FROM_MEASURE    608\n",
       "TO_MEASURE      608\n",
       "TMC             776\n",
       "               ... \n",
       "F9_00_PM        776\n",
       "PHEF            776\n",
       "AM_MAX          776\n",
       "PM_MAX          776\n",
       "geometry        608\n",
       "Length: 84, dtype: int64"
      ]
     },
     "execution_count": 86,
     "metadata": {},
     "output_type": "execute_result"
    }
   ],
   "source": [
    "shortcongestedroutesweekend = above52019weekend[(above52019weekend.Shape_Length <= 100)]\n",
    "shortcongestedroutesweekend.count()"
   ]
  },
  {
   "cell_type": "code",
   "execution_count": 88,
   "metadata": {},
   "outputs": [
    {
     "name": "stdout",
     "output_type": "stream",
     "text": [
      "0.7265917602996255\n"
     ]
    }
   ],
   "source": [
    "shortcongested2019weekend = shortcongestedroutesweekend.count()\n",
    "percentshort2019weekend =shortcongested2019weekend.divide(other = 1068)\n",
    "print(percentshort2019weekend.PHEF)"
   ]
  },
  {
   "cell_type": "markdown",
   "metadata": {},
   "source": [
    "The 2019 Weekend data also conforms to the trend with 778 of the 1068 (72.3%) congested route segments with PHEF scores above 5 measuring 100 meters or less in length located at an intersection. "
   ]
  },
  {
   "cell_type": "code",
   "execution_count": null,
   "metadata": {},
   "outputs": [],
   "source": []
  }
 ],
 "metadata": {
  "interpreter": {
   "hash": "a0b8e9102a81968c51b3f02854b399a9ecc33d96f504fd445f09f6dbb9c7ae14"
  },
  "kernelspec": {
   "display_name": "Python 3 (ipykernel)",
   "language": "python",
   "name": "python3"
  },
  "language_info": {
   "codemirror_mode": {
    "name": "ipython",
    "version": 3
   },
   "file_extension": ".py",
   "mimetype": "text/x-python",
   "name": "python",
   "nbconvert_exporter": "python",
   "pygments_lexer": "ipython3",
   "version": "3.7.10"
  }
 },
 "nbformat": 4,
 "nbformat_minor": 4
}
