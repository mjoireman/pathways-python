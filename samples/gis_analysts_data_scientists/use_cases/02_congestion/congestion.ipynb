{
 "cells": [
  {
   "cell_type": "markdown",
   "metadata": {},
   "source": [
    "### Imports"
   ]
  },
  {
   "cell_type": "code",
   "execution_count": 1,
   "metadata": {},
   "outputs": [],
   "source": [
    "import cartoframes\n",
    "import pathways\n",
    "from cartoframes.viz import Map, Layer, color_category_style\n",
    "from pathways.auth import set_default_credentials\n",
    "from pathways.catalog import search\n",
    "import geopandas as gpd\n",
    "import pandas as pd\n",
    "import seaborn as sns\n",
    "from pathways.display import display_info"
   ]
  },
  {
   "cell_type": "code",
   "execution_count": 2,
   "metadata": {},
   "outputs": [],
   "source": [
    "cartoframes.utils.setup_metrics(False)"
   ]
  },
  {
   "cell_type": "markdown",
   "metadata": {},
   "source": [
    "### Setting up Pathways client"
   ]
  },
  {
   "cell_type": "code",
   "execution_count": 3,
   "metadata": {},
   "outputs": [],
   "source": [
    "#set_default_credentials('creds.json')"
   ]
  },
  {
   "cell_type": "code",
   "execution_count": 4,
   "metadata": {},
   "outputs": [
    {
     "data": {
      "text/html": [
       "<div>\n",
       "<style scoped>\n",
       "    .dataframe tbody tr th:only-of-type {\n",
       "        vertical-align: middle;\n",
       "    }\n",
       "\n",
       "    .dataframe tbody tr th {\n",
       "        vertical-align: top;\n",
       "    }\n",
       "\n",
       "    .dataframe thead th {\n",
       "        text-align: right;\n",
       "    }\n",
       "</style>\n",
       "<table border=\"1\" class=\"dataframe\">\n",
       "  <thead>\n",
       "    <tr style=\"text-align: right;\">\n",
       "      <th></th>\n",
       "      <th>Id</th>\n",
       "      <th>Name</th>\n",
       "      <th>DisplayName</th>\n",
       "      <th>GeometryType</th>\n",
       "    </tr>\n",
       "  </thead>\n",
       "  <tbody>\n",
       "    <tr>\n",
       "      <th>0</th>\n",
       "      <td>d59fd5a8-d375-48f7-90cc-5b4d2e9ffe44</td>\n",
       "      <td>Peak Hour Expansion Factor 2020</td>\n",
       "      <td>Peak Hour Expansion Factor 2020</td>\n",
       "      <td>LrsLine</td>\n",
       "    </tr>\n",
       "    <tr>\n",
       "      <th>1</th>\n",
       "      <td>55cf50b3-882b-4b8d-bbcf-7d48ea749cd3</td>\n",
       "      <td>Peak Hour Expansion Factor Weekday 2018</td>\n",
       "      <td>Peak Hour Expansion Factor Weekday 2018</td>\n",
       "      <td>LrsLine</td>\n",
       "    </tr>\n",
       "    <tr>\n",
       "      <th>2</th>\n",
       "      <td>7e7ba4ee-f690-46e5-a214-58b730deeec6</td>\n",
       "      <td>Peak Hour Expansion Factor Weekday 2019</td>\n",
       "      <td>Peak Hour Expansion Factor Weekday 2019</td>\n",
       "      <td>LrsLine</td>\n",
       "    </tr>\n",
       "    <tr>\n",
       "      <th>3</th>\n",
       "      <td>c04d3c37-2824-4ecf-81b1-8140726bb745</td>\n",
       "      <td>Peak Hour Expansion Factor Weekend 2018</td>\n",
       "      <td>Peak Hour Expansion Factor Weekend 2018</td>\n",
       "      <td>LrsLine</td>\n",
       "    </tr>\n",
       "    <tr>\n",
       "      <th>4</th>\n",
       "      <td>94fa7469-a435-4794-a2e5-4a5ba3f7aa32</td>\n",
       "      <td>Peak Hour Expansion Factor Weekend 2019</td>\n",
       "      <td>Peak Hour Expansion Factor Weekend 2019</td>\n",
       "      <td>LrsLine</td>\n",
       "    </tr>\n",
       "    <tr>\n",
       "      <th>5</th>\n",
       "      <td>22802ade-9a85-4ac8-a7d0-508f29ddd4cb</td>\n",
       "      <td>Peak Hourly Expansion Factor 2017</td>\n",
       "      <td>Peak Hourly Expansion Factor 2017</td>\n",
       "      <td>Polyline</td>\n",
       "    </tr>\n",
       "    <tr>\n",
       "      <th>6</th>\n",
       "      <td>00a0686e-ac15-413d-8145-9835e8718b6f</td>\n",
       "      <td>Weighted Peak Hour Expansion Factor 2018</td>\n",
       "      <td>Weighted Peak Hour Expansion Factor 2018</td>\n",
       "      <td>LrsLine</td>\n",
       "    </tr>\n",
       "    <tr>\n",
       "      <th>7</th>\n",
       "      <td>ce03f8e8-82d6-4d48-9b7e-d58677d9b67b</td>\n",
       "      <td>Weighted Peak Hour Expansion Factor 2019</td>\n",
       "      <td>Weighted Peak Hour Expansion Factor 2019</td>\n",
       "      <td>LrsLine</td>\n",
       "    </tr>\n",
       "  </tbody>\n",
       "</table>\n",
       "</div>"
      ],
      "text/plain": [
       "                                     Id  \\\n",
       "0  d59fd5a8-d375-48f7-90cc-5b4d2e9ffe44   \n",
       "1  55cf50b3-882b-4b8d-bbcf-7d48ea749cd3   \n",
       "2  7e7ba4ee-f690-46e5-a214-58b730deeec6   \n",
       "3  c04d3c37-2824-4ecf-81b1-8140726bb745   \n",
       "4  94fa7469-a435-4794-a2e5-4a5ba3f7aa32   \n",
       "5  22802ade-9a85-4ac8-a7d0-508f29ddd4cb   \n",
       "6  00a0686e-ac15-413d-8145-9835e8718b6f   \n",
       "7  ce03f8e8-82d6-4d48-9b7e-d58677d9b67b   \n",
       "\n",
       "                                       Name  \\\n",
       "0           Peak Hour Expansion Factor 2020   \n",
       "1   Peak Hour Expansion Factor Weekday 2018   \n",
       "2   Peak Hour Expansion Factor Weekday 2019   \n",
       "3   Peak Hour Expansion Factor Weekend 2018   \n",
       "4   Peak Hour Expansion Factor Weekend 2019   \n",
       "5         Peak Hourly Expansion Factor 2017   \n",
       "6  Weighted Peak Hour Expansion Factor 2018   \n",
       "7  Weighted Peak Hour Expansion Factor 2019   \n",
       "\n",
       "                                DisplayName GeometryType  \n",
       "0           Peak Hour Expansion Factor 2020      LrsLine  \n",
       "1   Peak Hour Expansion Factor Weekday 2018      LrsLine  \n",
       "2   Peak Hour Expansion Factor Weekday 2019      LrsLine  \n",
       "3   Peak Hour Expansion Factor Weekend 2018      LrsLine  \n",
       "4   Peak Hour Expansion Factor Weekend 2019      LrsLine  \n",
       "5         Peak Hourly Expansion Factor 2017     Polyline  \n",
       "6  Weighted Peak Hour Expansion Factor 2018      LrsLine  \n",
       "7  Weighted Peak Hour Expansion Factor 2019      LrsLine  "
      ]
     },
     "execution_count": 4,
     "metadata": {},
     "output_type": "execute_result"
    }
   ],
   "source": [
    "datasets = search('expansion')\n",
    "datasets"
   ]
  },
  {
   "cell_type": "code",
   "execution_count": 5,
   "metadata": {},
   "outputs": [
    {
     "name": "stderr",
     "output_type": "stream",
     "text": [
      "downloading from pathways:: 28.2MB [00:08, 3.39MB/s]                                                                   \n",
      "downloading from pathways:: 28.2MB [00:07, 3.64MB/s]                                                                   \n",
      "downloading from pathways:: 28.2MB [00:07, 3.66MB/s]                                                                   \n",
      "downloading from pathways:: 28.2MB [00:08, 3.45MB/s]                                                                   \n",
      "downloading from pathways:: 26.8MB [00:07, 3.36MB/s]                                                                   \n"
     ]
    }
   ],
   "source": [
    "# read in datasets for analysis\n",
    "phef2018weekday_df = pathways.read_dataset('55cf50b3-882b-4b8d-bbcf-7d48ea749cd3')\n",
    "phef2018weekend_df = pathways.read_dataset('c04d3c37-2824-4ecf-81b1-8140726bb745')\n",
    "phef2019weekday_df = pathways.read_dataset('7e7ba4ee-f690-46e5-a214-58b730deeec6')\n",
    "phef2019weekend_df = pathways.read_dataset('94fa7469-a435-4794-a2e5-4a5ba3f7aa32')\n",
    "phef2020_df = pathways.read_dataset('d59fd5a8-d375-48f7-90cc-5b4d2e9ffe44')\n"
   ]
  },
  {
   "cell_type": "code",
   "execution_count": 20,
   "metadata": {},
   "outputs": [],
   "source": [
    "# Examine Congestion (PHEF) Score distribution in 2018 \n",
    "# Scores above 1.5 are considered congested routes. Scores above 5 are not measured as more congested\n",
    "subset_phef2018weekday_df = phef2018weekday_df[(phef2018weekday_df.PHEF >= 1.5) & (phef2018weekday_df.PHEF <= 5)]"
   ]
  },
  {
   "cell_type": "code",
   "execution_count": 21,
   "metadata": {},
   "outputs": [
    {
     "data": {
      "text/plain": [
       "<AxesSubplot:xlabel='PHEF', ylabel='Count'>"
      ]
     },
     "execution_count": 21,
     "metadata": {},
     "output_type": "execute_result"
    },
    {
     "data": {
      "image/png": "[encoded data removed]",
      "text/plain": [
       "<Figure size 432x288 with 1 Axes>"
      ]
     },
     "metadata": {
      "needs_background": "light"
     },
     "output_type": "display_data"
    }
   ],
   "source": [
    "sns.histplot(data=subset_phef2018weekday_df, x='PHEF', bins = 3, binwidth = 1)"
   ]
  },
  {
   "cell_type": "code",
   "execution_count": null,
   "metadata": {},
   "outputs": [],
   "source": []
  }
 ],
 "metadata": {
  "interpreter": {
   "hash": "a0b8e9102a81968c51b3f02854b399a9ecc33d96f504fd445f09f6dbb9c7ae14"
  },
  "kernelspec": {
   "display_name": "Python 3 (ipykernel)",
   "language": "python",
   "name": "python3"
  },
  "language_info": {
   "codemirror_mode": {
    "name": "ipython",
    "version": 3
   },
   "file_extension": ".py",
   "mimetype": "text/x-python",
   "name": "python",
   "nbconvert_exporter": "python",
   "pygments_lexer": "ipython3",
   "version": "3.7.10"
  }
 },
 "nbformat": 4,
 "nbformat_minor": 4
}
